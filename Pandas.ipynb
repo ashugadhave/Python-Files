{
 "cells": [
  {
   "cell_type": "code",
   "execution_count": 1,
   "metadata": {},
   "outputs": [],
   "source": [
    "# 07-OCT-2021\n",
    "#pandas\n",
    "# data is in tabular format\n",
    "# it loads data from csv or excel file\n",
    "# pandas works on top of numpy , numpy is a primary library\n",
    "# it is a library of numbers and dataframes\n",
    "# types of data structures- \n",
    "## 1) series - 1D- 1 column(homogeneous data, size is immutable,values are mutable )\n",
    "## 2) DataFrames-2D- more than one column-(Series come together to create dataFrames / collection of series),heterogeneous data,size & data is mutable\n",
    "## 3) panel - 3D (heterogeneous data, size and data is mutable)   "
   ]
  },
  {
   "cell_type": "code",
   "execution_count": 2,
   "metadata": {},
   "outputs": [],
   "source": [
    "# importing the liabrary\n",
    "# if not imported you need to install pandas\n",
    "# !pip install pandas\n",
    "import pandas as pd"
   ]
  },
  {
   "cell_type": "code",
   "execution_count": 3,
   "metadata": {},
   "outputs": [
    {
     "name": "stdout",
     "output_type": "stream",
     "text": [
      "3    40.0\n",
      "5    30.0\n",
      "6    35.0\n",
      "8    45.0\n",
      "9    50.0\n",
      "dtype: float64\n",
      "<class 'pandas.core.series.Series'>\n"
     ]
    }
   ],
   "source": [
    "# convert list into Series\n",
    "data=[40,30,35,45,50]\n",
    "index=[3,5,6,8,9]\n",
    "pds=pd.Series(data,index,dtype=float)\n",
    "print(pds)\n",
    "print(type(pds))\n"
   ]
  },
  {
   "cell_type": "code",
   "execution_count": 4,
   "metadata": {},
   "outputs": [
    {
     "name": "stdout",
     "output_type": "stream",
     "text": [
      "<class 'list'>\n",
      "<class 'list'>\n"
     ]
    }
   ],
   "source": [
    "print(type(data))\n",
    "print(type(index))"
   ]
  },
  {
   "cell_type": "code",
   "execution_count": 5,
   "metadata": {},
   "outputs": [
    {
     "name": "stdout",
     "output_type": "stream",
     "text": [
      "Series([], dtype: int32)\n"
     ]
    }
   ],
   "source": [
    "# creating empty series\n",
    "a=pd.Series(dtype=int)\n",
    "print(a)"
   ]
  },
  {
   "cell_type": "code",
   "execution_count": 6,
   "metadata": {},
   "outputs": [
    {
     "name": "stdout",
     "output_type": "stream",
     "text": [
      "0    10\n",
      "1    20\n",
      "2    30\n",
      "3    40\n",
      "dtype: int32\n"
     ]
    }
   ],
   "source": [
    "# creating Series from numpy array\n",
    "import numpy as np\n",
    "data=np.array([10,20,30,40])\n",
    "s=pd.Series(data)\n",
    "print(s)"
   ]
  },
  {
   "cell_type": "code",
   "execution_count": 7,
   "metadata": {},
   "outputs": [
    {
     "name": "stdout",
     "output_type": "stream",
     "text": [
      "0    5j\n",
      "1    6j\n",
      "2    7j\n",
      "dtype: complex128\n"
     ]
    }
   ],
   "source": [
    "# index\n",
    "index=pd.Series([5j,6j,7j]) # homogeneous data explanation\n",
    "print(index)"
   ]
  },
  {
   "cell_type": "code",
   "execution_count": 8,
   "metadata": {},
   "outputs": [
    {
     "name": "stdout",
     "output_type": "stream",
     "text": [
      "0    1\n",
      "1    2\n",
      "2    3\n",
      "dtype: int32\n"
     ]
    }
   ],
   "source": [
    "a=pd.Series(np.array([1,2,3]))\n",
    "print(a)"
   ]
  },
  {
   "cell_type": "code",
   "execution_count": 9,
   "metadata": {},
   "outputs": [
    {
     "name": "stdout",
     "output_type": "stream",
     "text": [
      "100    a\n",
      "101    b\n",
      "102    c\n",
      "103    d\n",
      "104    6\n",
      "105    5\n",
      "106    4\n",
      "dtype: object\n",
      "7\n"
     ]
    }
   ],
   "source": [
    "# create Series from numpy array\n",
    "d=np.array(['a','b','c','d',6,5,4])\n",
    "r=pd.Series(d,index=[100,101,102,103,104,105,106])\n",
    "print(r)\n",
    "print(r.size)"
   ]
  },
  {
   "cell_type": "code",
   "execution_count": 10,
   "metadata": {},
   "outputs": [
    {
     "name": "stdout",
     "output_type": "stream",
     "text": [
      "a\n",
      "100    a\n",
      "101    b\n",
      "102    c\n",
      "103    d\n",
      "104    6\n",
      "105    5\n",
      "106    4\n",
      "dtype: object\n",
      "b\n",
      "100    a\n",
      "101    b\n",
      "102    c\n",
      "103    d\n",
      "104    6\n",
      "105    5\n",
      "106    4\n",
      "dtype: object\n",
      "c\n",
      "100    a\n",
      "101    b\n",
      "102    c\n",
      "103    d\n",
      "104    6\n",
      "105    5\n",
      "106    4\n",
      "dtype: object\n",
      "d\n",
      "100    a\n",
      "101    b\n",
      "102    c\n",
      "103    d\n",
      "104    6\n",
      "105    5\n",
      "106    4\n",
      "dtype: object\n",
      "6\n",
      "100    a\n",
      "101    b\n",
      "102    c\n",
      "103    d\n",
      "104    6\n",
      "105    5\n",
      "106    4\n",
      "dtype: object\n",
      "5\n",
      "100    a\n",
      "101    b\n",
      "102    c\n",
      "103    d\n",
      "104    6\n",
      "105    5\n",
      "106    4\n",
      "dtype: object\n",
      "4\n",
      "100    a\n",
      "101    b\n",
      "102    c\n",
      "103    d\n",
      "104    6\n",
      "105    5\n",
      "106    4\n",
      "dtype: object\n"
     ]
    }
   ],
   "source": [
    "# for loop\n",
    "y = 100\n",
    "for i in r:\n",
    "    print(r[y])\n",
    "    y = y + 1\n",
    "    print(r)"
   ]
  },
  {
   "cell_type": "code",
   "execution_count": 11,
   "metadata": {},
   "outputs": [
    {
     "name": "stdout",
     "output_type": "stream",
     "text": [
      "a\n",
      "b\n",
      "c\n",
      "d\n",
      "6\n",
      "5\n",
      "4\n",
      "100    a\n",
      "101    b\n",
      "102    c\n",
      "103    d\n",
      "104    6\n",
      "105    5\n",
      "106    4\n",
      "dtype: object\n"
     ]
    }
   ],
   "source": [
    "y=100\n",
    "for i in r:\n",
    "    print(r[y])\n",
    "    y=y+1\n",
    "print(r)"
   ]
  },
  {
   "cell_type": "code",
   "execution_count": 12,
   "metadata": {},
   "outputs": [
    {
     "name": "stdout",
     "output_type": "stream",
     "text": [
      "1      one\n",
      "2      two\n",
      "3    three\n",
      "4     four\n",
      "dtype: object\n"
     ]
    }
   ],
   "source": [
    "# creating series from dictionary(dict)\n",
    "dict_={1:'one',2:'two',3:'three',4:'four'}\n",
    "e=pd.Series(dict_)\n",
    "print(e)"
   ]
  },
  {
   "cell_type": "code",
   "execution_count": 13,
   "metadata": {},
   "outputs": [
    {
     "name": "stdout",
     "output_type": "stream",
     "text": [
      "{'name': ['deep', 'nikhil', 'karan'], 'marks': [70, 75, 80], 'city': ['pune', 'mumbai', 'delhi']}\n"
     ]
    }
   ],
   "source": [
    "d={'name':['deep','nikhil','karan'],\n",
    "   'marks':[70,75,80],\n",
    "   'city':['pune','mumbai','delhi']\n",
    "  }\n",
    "\n",
    "print(d)"
   ]
  },
  {
   "cell_type": "code",
   "execution_count": 14,
   "metadata": {},
   "outputs": [
    {
     "name": "stdout",
     "output_type": "stream",
     "text": [
      "name     [deep, nikhil, karan]\n",
      "marks             [70, 75, 80]\n",
      "city     [pune, mumbai, delhi]\n",
      "dtype: object\n"
     ]
    }
   ],
   "source": [
    "u=pd.Series(d)\n",
    "print(u)\n"
   ]
  },
  {
   "cell_type": "code",
   "execution_count": 15,
   "metadata": {},
   "outputs": [
    {
     "name": "stdout",
     "output_type": "stream",
     "text": [
      "(3,)\n",
      "3\n",
      "1\n"
     ]
    }
   ],
   "source": [
    "print(u.shape)\n",
    "print(u.size)\n",
    "print(u.ndim)"
   ]
  },
  {
   "cell_type": "code",
   "execution_count": 16,
   "metadata": {},
   "outputs": [
    {
     "name": "stdout",
     "output_type": "stream",
     "text": [
      "2\n"
     ]
    },
    {
     "data": {
      "text/html": [
       "<div>\n",
       "<style scoped>\n",
       "    .dataframe tbody tr th:only-of-type {\n",
       "        vertical-align: middle;\n",
       "    }\n",
       "\n",
       "    .dataframe tbody tr th {\n",
       "        vertical-align: top;\n",
       "    }\n",
       "\n",
       "    .dataframe thead th {\n",
       "        text-align: right;\n",
       "    }\n",
       "</style>\n",
       "<table border=\"1\" class=\"dataframe\">\n",
       "  <thead>\n",
       "    <tr style=\"text-align: right;\">\n",
       "      <th></th>\n",
       "      <th>0</th>\n",
       "    </tr>\n",
       "  </thead>\n",
       "  <tbody>\n",
       "    <tr>\n",
       "      <th>0</th>\n",
       "      <td>4</td>\n",
       "    </tr>\n",
       "    <tr>\n",
       "      <th>1</th>\n",
       "      <td>5</td>\n",
       "    </tr>\n",
       "    <tr>\n",
       "      <th>2</th>\n",
       "      <td>6</td>\n",
       "    </tr>\n",
       "    <tr>\n",
       "      <th>3</th>\n",
       "      <td>7</td>\n",
       "    </tr>\n",
       "    <tr>\n",
       "      <th>4</th>\n",
       "      <td>8</td>\n",
       "    </tr>\n",
       "  </tbody>\n",
       "</table>\n",
       "</div>"
      ],
      "text/plain": [
       "   0\n",
       "0  4\n",
       "1  5\n",
       "2  6\n",
       "3  7\n",
       "4  8"
      ]
     },
     "execution_count": 16,
     "metadata": {},
     "output_type": "execute_result"
    }
   ],
   "source": [
    "# creating a dataframe\n",
    "a=pd.DataFrame([4,5,6,7,8])\n",
    "print(a.ndim)\n",
    "a\n"
   ]
  },
  {
   "cell_type": "code",
   "execution_count": 17,
   "metadata": {},
   "outputs": [
    {
     "data": {
      "text/html": [
       "<div>\n",
       "<style scoped>\n",
       "    .dataframe tbody tr th:only-of-type {\n",
       "        vertical-align: middle;\n",
       "    }\n",
       "\n",
       "    .dataframe tbody tr th {\n",
       "        vertical-align: top;\n",
       "    }\n",
       "\n",
       "    .dataframe thead th {\n",
       "        text-align: right;\n",
       "    }\n",
       "</style>\n",
       "<table border=\"1\" class=\"dataframe\">\n",
       "  <thead>\n",
       "    <tr style=\"text-align: right;\">\n",
       "      <th></th>\n",
       "      <th>0</th>\n",
       "    </tr>\n",
       "  </thead>\n",
       "  <tbody>\n",
       "    <tr>\n",
       "      <th>0</th>\n",
       "      <td>python</td>\n",
       "    </tr>\n",
       "    <tr>\n",
       "      <th>1</th>\n",
       "      <td>java</td>\n",
       "    </tr>\n",
       "  </tbody>\n",
       "</table>\n",
       "</div>"
      ],
      "text/plain": [
       "        0\n",
       "0  python\n",
       "1    java"
      ]
     },
     "execution_count": 17,
     "metadata": {},
     "output_type": "execute_result"
    }
   ],
   "source": [
    "# creating dataframe using list\n",
    "a=['python','java']\n",
    "info=pd.DataFrame(a)\n",
    "info"
   ]
  },
  {
   "cell_type": "code",
   "execution_count": 18,
   "metadata": {},
   "outputs": [
    {
     "data": {
      "text/html": [
       "<div>\n",
       "<style scoped>\n",
       "    .dataframe tbody tr th:only-of-type {\n",
       "        vertical-align: middle;\n",
       "    }\n",
       "\n",
       "    .dataframe tbody tr th {\n",
       "        vertical-align: top;\n",
       "    }\n",
       "\n",
       "    .dataframe thead th {\n",
       "        text-align: right;\n",
       "    }\n",
       "</style>\n",
       "<table border=\"1\" class=\"dataframe\">\n",
       "  <thead>\n",
       "    <tr style=\"text-align: right;\">\n",
       "      <th></th>\n",
       "      <th>name</th>\n",
       "      <th>marks</th>\n",
       "      <th>city</th>\n",
       "    </tr>\n",
       "  </thead>\n",
       "  <tbody>\n",
       "    <tr>\n",
       "      <th>0</th>\n",
       "      <td>deep</td>\n",
       "      <td>70</td>\n",
       "      <td>pune</td>\n",
       "    </tr>\n",
       "    <tr>\n",
       "      <th>1</th>\n",
       "      <td>nikhil</td>\n",
       "      <td>75</td>\n",
       "      <td>mumbai</td>\n",
       "    </tr>\n",
       "    <tr>\n",
       "      <th>2</th>\n",
       "      <td>karan</td>\n",
       "      <td>80</td>\n",
       "      <td>delhi</td>\n",
       "    </tr>\n",
       "  </tbody>\n",
       "</table>\n",
       "</div>"
      ],
      "text/plain": [
       "     name  marks    city\n",
       "0    deep     70    pune\n",
       "1  nikhil     75  mumbai\n",
       "2   karan     80   delhi"
      ]
     },
     "execution_count": 18,
     "metadata": {},
     "output_type": "execute_result"
    }
   ],
   "source": [
    "b=pd.DataFrame(d)\n",
    "b"
   ]
  },
  {
   "cell_type": "code",
   "execution_count": 19,
   "metadata": {},
   "outputs": [
    {
     "data": {
      "text/plain": [
       "name     [deep, nikhil, karan]\n",
       "marks             [70, 75, 80]\n",
       "city     [pune, mumbai, delhi]\n",
       "dtype: object"
      ]
     },
     "execution_count": 19,
     "metadata": {},
     "output_type": "execute_result"
    }
   ],
   "source": [
    "u"
   ]
  },
  {
   "cell_type": "code",
   "execution_count": 20,
   "metadata": {},
   "outputs": [
    {
     "name": "stdout",
     "output_type": "stream",
     "text": [
      "1      one\n",
      "2      two\n",
      "3    three\n",
      "4     four\n",
      "dtype: object\n"
     ]
    }
   ],
   "source": [
    "# creating series from dictionary(dict)\n",
    "dict_={1:'one',2:'two',3:'three',4:'four'}\n",
    "e=pd.Series(dict_)\n",
    "print(e)"
   ]
  },
  {
   "cell_type": "code",
   "execution_count": 21,
   "metadata": {},
   "outputs": [
    {
     "data": {
      "text/html": [
       "<div>\n",
       "<style scoped>\n",
       "    .dataframe tbody tr th:only-of-type {\n",
       "        vertical-align: middle;\n",
       "    }\n",
       "\n",
       "    .dataframe tbody tr th {\n",
       "        vertical-align: top;\n",
       "    }\n",
       "\n",
       "    .dataframe thead th {\n",
       "        text-align: right;\n",
       "    }\n",
       "</style>\n",
       "<table border=\"1\" class=\"dataframe\">\n",
       "  <thead>\n",
       "    <tr style=\"text-align: right;\">\n",
       "      <th></th>\n",
       "      <th>0</th>\n",
       "    </tr>\n",
       "  </thead>\n",
       "  <tbody>\n",
       "    <tr>\n",
       "      <th>1</th>\n",
       "      <td>one</td>\n",
       "    </tr>\n",
       "    <tr>\n",
       "      <th>2</th>\n",
       "      <td>two</td>\n",
       "    </tr>\n",
       "    <tr>\n",
       "      <th>3</th>\n",
       "      <td>three</td>\n",
       "    </tr>\n",
       "    <tr>\n",
       "      <th>4</th>\n",
       "      <td>four</td>\n",
       "    </tr>\n",
       "  </tbody>\n",
       "</table>\n",
       "</div>"
      ],
      "text/plain": [
       "       0\n",
       "1    one\n",
       "2    two\n",
       "3  three\n",
       "4   four"
      ]
     },
     "execution_count": 21,
     "metadata": {},
     "output_type": "execute_result"
    }
   ],
   "source": [
    "# create dataframe using above series\n",
    "x=pd.DataFrame(e)\n",
    "x"
   ]
  },
  {
   "cell_type": "code",
   "execution_count": 22,
   "metadata": {},
   "outputs": [],
   "source": [
    "# creating csv file\n",
    "b.to_csv('details_pd.csv')"
   ]
  },
  {
   "cell_type": "code",
   "execution_count": 23,
   "metadata": {},
   "outputs": [],
   "source": [
    "b.to_csv('details_pd_new.csv',index=False)"
   ]
  },
  {
   "cell_type": "code",
   "execution_count": 24,
   "metadata": {},
   "outputs": [
    {
     "name": "stdout",
     "output_type": "stream",
     "text": [
      "0    10\n",
      "1    20\n",
      "2    30\n",
      "3    40\n",
      "dtype: int64\n",
      "0    10.0\n",
      "1    20.0\n",
      "2    30.0\n",
      "3    40.0\n",
      "4    50.5\n",
      "dtype: float64\n",
      "0      10\n",
      "1      20\n",
      "2      30\n",
      "3      40\n",
      "4    50.5\n",
      "5       A\n",
      "dtype: object\n"
     ]
    }
   ],
   "source": [
    "# Q- why series is homogenious even it store mixed data types values\n",
    "#Ans- when we store all int element in series it shows int datatype\n",
    "# if we add one float number then it show series datatype is float \n",
    "# and if we add one string in series then it shows series datatype is object\n",
    "# means it shows same datatype for whole series\n",
    "# thats why series is homogenious \n",
    "# example\n",
    "import pandas as pd\n",
    "s=pd.Series(data=[10,20,30,40])\n",
    "print(s)\n",
    "s1=pd.Series(data=[10,20,30,40,50.5])\n",
    "print(s1)\n",
    "s2=pd.Series(data=[10,20,30,40,50.5,'A'])\n",
    "print(s2)"
   ]
  },
  {
   "cell_type": "code",
   "execution_count": 25,
   "metadata": {},
   "outputs": [
    {
     "name": "stdout",
     "output_type": "stream",
     "text": [
      "      0\n",
      "0    10\n",
      "1    20\n",
      "2    30\n",
      "3    40\n",
      "4  50.5\n",
      "5     A\n",
      "<class 'pandas.core.frame.DataFrame'>\n"
     ]
    },
    {
     "data": {
      "text/plain": [
       "0    object\n",
       "dtype: object"
      ]
     },
     "execution_count": 25,
     "metadata": {},
     "output_type": "execute_result"
    }
   ],
   "source": [
    "df=pd.DataFrame(s2)\n",
    "print(df)\n",
    "print(type(df))\n",
    "df.dtypes"
   ]
  },
  {
   "cell_type": "code",
   "execution_count": 27,
   "metadata": {},
   "outputs": [
    {
     "data": {
      "text/html": [
       "<div>\n",
       "<style scoped>\n",
       "    .dataframe tbody tr th:only-of-type {\n",
       "        vertical-align: middle;\n",
       "    }\n",
       "\n",
       "    .dataframe tbody tr th {\n",
       "        vertical-align: top;\n",
       "    }\n",
       "\n",
       "    .dataframe thead th {\n",
       "        text-align: right;\n",
       "    }\n",
       "</style>\n",
       "<table border=\"1\" class=\"dataframe\">\n",
       "  <thead>\n",
       "    <tr style=\"text-align: right;\">\n",
       "      <th></th>\n",
       "      <th>Unnamed: 0</th>\n",
       "      <th>name</th>\n",
       "      <th>marks</th>\n",
       "      <th>city</th>\n",
       "    </tr>\n",
       "  </thead>\n",
       "  <tbody>\n",
       "    <tr>\n",
       "      <th>0</th>\n",
       "      <td>0</td>\n",
       "      <td>deep</td>\n",
       "      <td>70</td>\n",
       "      <td>pune</td>\n",
       "    </tr>\n",
       "    <tr>\n",
       "      <th>1</th>\n",
       "      <td>1</td>\n",
       "      <td>nikhil</td>\n",
       "      <td>75</td>\n",
       "      <td>mumbai</td>\n",
       "    </tr>\n",
       "    <tr>\n",
       "      <th>2</th>\n",
       "      <td>2</td>\n",
       "      <td>karan</td>\n",
       "      <td>80</td>\n",
       "      <td>delhi</td>\n",
       "    </tr>\n",
       "  </tbody>\n",
       "</table>\n",
       "</div>"
      ],
      "text/plain": [
       "   Unnamed: 0    name  marks    city\n",
       "0           0    deep     70    pune\n",
       "1           1  nikhil     75  mumbai\n",
       "2           2   karan     80   delhi"
      ]
     },
     "execution_count": 27,
     "metadata": {},
     "output_type": "execute_result"
    }
   ],
   "source": [
    "df=pd.read_csv('details_pd.csv')\n",
    "df"
   ]
  },
  {
   "cell_type": "code",
   "execution_count": null,
   "metadata": {},
   "outputs": [],
   "source": []
  }
 ],
 "metadata": {
  "kernelspec": {
   "display_name": "Python 3",
   "language": "python",
   "name": "python3"
  },
  "language_info": {
   "codemirror_mode": {
    "name": "ipython",
    "version": 3
   },
   "file_extension": ".py",
   "mimetype": "text/x-python",
   "name": "python",
   "nbconvert_exporter": "python",
   "pygments_lexer": "ipython3",
   "version": "3.7.3"
  }
 },
 "nbformat": 4,
 "nbformat_minor": 2
}

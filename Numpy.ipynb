{
 "cells": [
  {
   "cell_type": "code",
   "execution_count": 3,
   "metadata": {},
   "outputs": [
    {
     "name": "stdout",
     "output_type": "stream",
     "text": [
      "Hello world\n"
     ]
    }
   ],
   "source": [
    "class python:\n",
    "    def func():\n",
    "        print(\"Hello world\")\n",
    "    \n",
    "    func()        "
   ]
  },
  {
   "cell_type": "code",
   "execution_count": null,
   "metadata": {},
   "outputs": [],
   "source": []
  },
  {
   "cell_type": "code",
   "execution_count": 2,
   "metadata": {},
   "outputs": [],
   "source": [
    "class notebook:\n",
    "    pages=200\n",
    "    name=\"history\"\n",
    "    label=\"standard book\""
   ]
  },
  {
   "cell_type": "code",
   "execution_count": 3,
   "metadata": {},
   "outputs": [
    {
     "name": "stdout",
     "output_type": "stream",
     "text": [
      "200\n",
      "history\n",
      "standard book\n"
     ]
    }
   ],
   "source": [
    "example_instance=notebook()\n",
    "print(example_instance.pages)\n",
    "print(example_instance.name)\n",
    "print(example_instance.label)"
   ]
  },
  {
   "cell_type": "code",
   "execution_count": 4,
   "metadata": {},
   "outputs": [],
   "source": [
    "#numpy-- numerical python\n",
    "#importing a library\n",
    "import numpy as np"
   ]
  },
  {
   "cell_type": "code",
   "execution_count": 5,
   "metadata": {},
   "outputs": [
    {
     "name": "stdout",
     "output_type": "stream",
     "text": [
      "[list([3, 6, 5, 8]) list([12, 13, 15])]\n",
      "<class 'numpy.ndarray'>\n",
      "[3, 6, 5, 8]\n"
     ]
    }
   ],
   "source": [
    "#we create an array\n",
    "a=np.array([[3,6,5,8],[12,13,15]])\n",
    "print(a)\n",
    "print(type(a))\n",
    "print(a[0])"
   ]
  },
  {
   "cell_type": "code",
   "execution_count": 6,
   "metadata": {},
   "outputs": [
    {
     "data": {
      "text/plain": [
       "dtype('O')"
      ]
     },
     "execution_count": 6,
     "metadata": {},
     "output_type": "execute_result"
    }
   ],
   "source": [
    "a.dtype"
   ]
  },
  {
   "cell_type": "code",
   "execution_count": 7,
   "metadata": {},
   "outputs": [
    {
     "data": {
      "text/plain": [
       "[3, 6, 5, 8]"
      ]
     },
     "execution_count": 7,
     "metadata": {},
     "output_type": "execute_result"
    }
   ],
   "source": [
    "a[0]"
   ]
  },
  {
   "cell_type": "code",
   "execution_count": 8,
   "metadata": {},
   "outputs": [
    {
     "name": "stdout",
     "output_type": "stream",
     "text": [
      "[[ 5  6  9]\n",
      " [10 13 16]]\n"
     ]
    }
   ],
   "source": [
    "b=np.array([[5,6,9],[10,13,16]])\n",
    "print(b)"
   ]
  },
  {
   "cell_type": "code",
   "execution_count": 9,
   "metadata": {},
   "outputs": [
    {
     "name": "stdout",
     "output_type": "stream",
     "text": [
      "[10 13 16]\n"
     ]
    }
   ],
   "source": [
    "print(b[1])"
   ]
  },
  {
   "cell_type": "code",
   "execution_count": 10,
   "metadata": {},
   "outputs": [
    {
     "data": {
      "text/plain": [
       "(2, 3)"
      ]
     },
     "execution_count": 10,
     "metadata": {},
     "output_type": "execute_result"
    }
   ],
   "source": [
    "b.shape"
   ]
  },
  {
   "cell_type": "code",
   "execution_count": 11,
   "metadata": {},
   "outputs": [
    {
     "data": {
      "text/plain": [
       "2"
      ]
     },
     "execution_count": 11,
     "metadata": {},
     "output_type": "execute_result"
    }
   ],
   "source": [
    "#dimension\n",
    "b.ndim"
   ]
  },
  {
   "cell_type": "code",
   "execution_count": 12,
   "metadata": {},
   "outputs": [
    {
     "name": "stdout",
     "output_type": "stream",
     "text": [
      "[list([5, 6]) list([10, 13, 16])]\n"
     ]
    },
    {
     "data": {
      "text/plain": [
       "1"
      ]
     },
     "execution_count": 12,
     "metadata": {},
     "output_type": "execute_result"
    }
   ],
   "source": [
    "b=np.array([[5,6],[10,13,16]])\n",
    "print(b)\n",
    "b.shape\n",
    "b.ndim"
   ]
  },
  {
   "cell_type": "code",
   "execution_count": 13,
   "metadata": {},
   "outputs": [
    {
     "data": {
      "text/plain": [
       "(1,)"
      ]
     },
     "execution_count": 13,
     "metadata": {},
     "output_type": "execute_result"
    }
   ],
   "source": [
    "#we want to create 2 dimension array everytime it will come as (1,)(3,)(7,)\n",
    "a=np.array([30])\n",
    "a.shape"
   ]
  },
  {
   "cell_type": "code",
   "execution_count": 14,
   "metadata": {},
   "outputs": [
    {
     "data": {
      "text/plain": [
       "(1,)"
      ]
     },
     "execution_count": 14,
     "metadata": {},
     "output_type": "execute_result"
    }
   ],
   "source": [
    "a.shape"
   ]
  },
  {
   "cell_type": "code",
   "execution_count": 15,
   "metadata": {},
   "outputs": [
    {
     "data": {
      "text/plain": [
       "1"
      ]
     },
     "execution_count": 15,
     "metadata": {},
     "output_type": "execute_result"
    }
   ],
   "source": [
    "a.ndim"
   ]
  },
  {
   "cell_type": "code",
   "execution_count": 16,
   "metadata": {},
   "outputs": [
    {
     "name": "stdout",
     "output_type": "stream",
     "text": [
      "(2, 2)\n",
      "2\n"
     ]
    }
   ],
   "source": [
    "# 2 dimension\n",
    "d=np.array([[4,5],[9,3]])\n",
    "print(d.shape)\n",
    "print(d.ndim)"
   ]
  },
  {
   "cell_type": "code",
   "execution_count": 17,
   "metadata": {},
   "outputs": [
    {
     "name": "stdout",
     "output_type": "stream",
     "text": [
      "[[[ 5  6 12]\n",
      "  [59  7 98]]]\n",
      "(1, 2, 3)\n",
      "3\n"
     ]
    }
   ],
   "source": [
    "#3 dimension\n",
    "arr=np.array([[[5,6,12],[59,7,98]]])\n",
    "print(arr)\n",
    "print(arr.shape)\n",
    "print(arr.ndim)"
   ]
  },
  {
   "cell_type": "code",
   "execution_count": null,
   "metadata": {},
   "outputs": [],
   "source": []
  },
  {
   "cell_type": "code",
   "execution_count": 18,
   "metadata": {},
   "outputs": [
    {
     "data": {
      "text/plain": [
       "array([[[[0, 1],\n",
       "         [2, 3],\n",
       "         [4, 5],\n",
       "         [6, 7]]]])"
      ]
     },
     "execution_count": 18,
     "metadata": {},
     "output_type": "execute_result"
    }
   ],
   "source": [
    "A = np.array([[[[ 0, 1], [ 2, 3], [ 4, 5], [ 6, 7]]]])\n",
    "A"
   ]
  },
  {
   "cell_type": "code",
   "execution_count": 19,
   "metadata": {},
   "outputs": [
    {
     "data": {
      "text/plain": [
       "(1, 1, 4, 2)"
      ]
     },
     "execution_count": 19,
     "metadata": {},
     "output_type": "execute_result"
    }
   ],
   "source": [
    "A.shape\n",
    "#A.ndim"
   ]
  },
  {
   "cell_type": "code",
   "execution_count": 20,
   "metadata": {},
   "outputs": [
    {
     "name": "stdout",
     "output_type": "stream",
     "text": [
      "[[[10]\n",
      "  [20]]\n",
      "\n",
      " [[30]\n",
      "  [40]]\n",
      "\n",
      " [[50]\n",
      "  [60]]]\n",
      "(3, 2, 1)\n",
      "3\n"
     ]
    }
   ],
   "source": [
    "#create a array having dimension and 3 and shape (3,2,1)\n",
    "a=np.array([[[10],[20]],[[30],[40]],[[50],[60]]])\n",
    "print(a)\n",
    "print(a.shape)\n",
    "print(a.ndim)"
   ]
  },
  {
   "cell_type": "code",
   "execution_count": 21,
   "metadata": {},
   "outputs": [
    {
     "name": "stdout",
     "output_type": "stream",
     "text": [
      "[2 3]\n"
     ]
    }
   ],
   "source": [
    "c=np.array([2,3])\n",
    "print(c)"
   ]
  },
  {
   "cell_type": "code",
   "execution_count": 22,
   "metadata": {},
   "outputs": [
    {
     "name": "stdout",
     "output_type": "stream",
     "text": [
      "2\n",
      "(2,)\n",
      "1\n"
     ]
    }
   ],
   "source": [
    "print(c.size)\n",
    "print(c.shape)\n",
    "print(c.ndim)"
   ]
  },
  {
   "cell_type": "code",
   "execution_count": 23,
   "metadata": {},
   "outputs": [
    {
     "name": "stdout",
     "output_type": "stream",
     "text": [
      "[[4 2]\n",
      " [5 9]]\n",
      "(2, 2)\n",
      "2\n"
     ]
    }
   ],
   "source": [
    "#2d array\n",
    "r=np.array([[4,2],[5,9]])\n",
    "print(r)\n",
    "print(r.shape)\n",
    "print(r.ndim)"
   ]
  },
  {
   "cell_type": "code",
   "execution_count": 24,
   "metadata": {},
   "outputs": [
    {
     "name": "stdout",
     "output_type": "stream",
     "text": [
      "[[[4]\n",
      "  [5]]]\n",
      "(1, 2, 1)\n",
      "3\n"
     ]
    }
   ],
   "source": [
    "#3d array\n",
    "c=np.array([[[4],[5]]])\n",
    "print(c)\n",
    "print(c.shape)\n",
    "print(c.ndim)"
   ]
  },
  {
   "cell_type": "code",
   "execution_count": 25,
   "metadata": {},
   "outputs": [
    {
     "name": "stdout",
     "output_type": "stream",
     "text": [
      "[[[[1 4 6]\n",
      "   [3 8 9]]\n",
      "\n",
      "  [[1 4 6]\n",
      "   [3 8 9]]\n",
      "\n",
      "  [[1 4 6]\n",
      "   [3 8 9]]]\n",
      "\n",
      "\n",
      " [[[1 4 6]\n",
      "   [3 8 9]]\n",
      "\n",
      "  [[1 4 6]\n",
      "   [3 8 9]]\n",
      "\n",
      "  [[1 4 6]\n",
      "   [3 8 9]]]]\n",
      "(2, 3, 2, 3)\n",
      "4\n"
     ]
    }
   ],
   "source": [
    "#create a 4d which has shape (2,3,2,3)\n",
    "a=np.array([[[[1,4,6],[3,8,9]],[[1,4,6],[3,8,9]],[[1,4,6],[3,8,9]]],[[[1,4,6],[3,8,9]],[[1,4,6],[3,8,9]],[[1,4,6],[3,8,9]]]])\n",
    "print(a)\n",
    "print(a.shape)\n",
    "print(a.ndim)"
   ]
  },
  {
   "cell_type": "code",
   "execution_count": 26,
   "metadata": {},
   "outputs": [
    {
     "name": "stdout",
     "output_type": "stream",
     "text": [
      "[[[[1 2 3]\n",
      "   [1 2 3]]\n",
      "\n",
      "  [[1 2 3]\n",
      "   [1 2 3]]\n",
      "\n",
      "  [[1 2 3]\n",
      "   [1 2 3]]]\n",
      "\n",
      "\n",
      " [[[1 2 3]\n",
      "   [1 2 3]]\n",
      "\n",
      "  [[1 2 3]\n",
      "   [1 2 3]]\n",
      "\n",
      "  [[1 2 3]\n",
      "   [1 2 3]]]]\n",
      "(2, 3, 2, 3)\n",
      "4\n"
     ]
    }
   ],
   "source": [
    "# 4D array\n",
    "arr=np.array([[[[1,2,3],[1,2,3]],[[1,2,3],[1,2,3]],[[1,2,3],[1,2,3]]],[[[1,2,3],[1,2,3]],[[1,2,3],[1,2,3]],[[1,2,3],[1,2,3]]]])\n",
    "print(arr)\n",
    "print(arr.shape)\n",
    "print(arr.ndim)"
   ]
  },
  {
   "cell_type": "code",
   "execution_count": 27,
   "metadata": {},
   "outputs": [
    {
     "name": "stdout",
     "output_type": "stream",
     "text": [
      "(2, 2) 2\n",
      "9\n",
      "[[5 6]\n",
      " [4 9]]\n"
     ]
    },
    {
     "data": {
      "text/plain": [
       "array([5, 6])"
      ]
     },
     "execution_count": 27,
     "metadata": {},
     "output_type": "execute_result"
    }
   ],
   "source": [
    "num=np.array([[5,6],[4,9]])\n",
    "print(num.shape,num.ndim)\n",
    "print(num[1,1])\n",
    "print(num)\n",
    "num[0]"
   ]
  },
  {
   "cell_type": "code",
   "execution_count": 28,
   "metadata": {},
   "outputs": [
    {
     "name": "stdout",
     "output_type": "stream",
     "text": [
      "5\n"
     ]
    }
   ],
   "source": [
    "# we are accessing the rows\n",
    "print(num[0,0])\n"
   ]
  },
  {
   "cell_type": "code",
   "execution_count": 29,
   "metadata": {},
   "outputs": [
    {
     "name": "stdout",
     "output_type": "stream",
     "text": [
      "[6 9]\n"
     ]
    }
   ],
   "source": [
    "# we are accessing the columns\n",
    "print(num[:,1])"
   ]
  },
  {
   "cell_type": "code",
   "execution_count": 30,
   "metadata": {},
   "outputs": [
    {
     "data": {
      "text/plain": [
       "array([5, 4])"
      ]
     },
     "execution_count": 30,
     "metadata": {},
     "output_type": "execute_result"
    }
   ],
   "source": [
    "num[:,0]"
   ]
  },
  {
   "cell_type": "code",
   "execution_count": 31,
   "metadata": {},
   "outputs": [
    {
     "name": "stdout",
     "output_type": "stream",
     "text": [
      "[5 6] [4 9]\n"
     ]
    }
   ],
   "source": [
    "print(num[0],num[1])\n"
   ]
  },
  {
   "cell_type": "code",
   "execution_count": 32,
   "metadata": {},
   "outputs": [
    {
     "name": "stdout",
     "output_type": "stream",
     "text": [
      "[[1 2 3]\n",
      " [4 5 6]\n",
      " [7 8 9]]\n"
     ]
    }
   ],
   "source": [
    "a=np.array([[1,2,3],[4,5,6],[7,8,9]])\n",
    "print(a)\n"
   ]
  },
  {
   "cell_type": "code",
   "execution_count": 33,
   "metadata": {},
   "outputs": [
    {
     "data": {
      "text/plain": [
       "array([[1, 2, 3]])"
      ]
     },
     "execution_count": 33,
     "metadata": {},
     "output_type": "execute_result"
    }
   ],
   "source": [
    "#accessing row\n",
    "a[:1]"
   ]
  },
  {
   "cell_type": "code",
   "execution_count": 34,
   "metadata": {},
   "outputs": [
    {
     "data": {
      "text/plain": [
       "array([2, 5, 8])"
      ]
     },
     "execution_count": 34,
     "metadata": {},
     "output_type": "execute_result"
    }
   ],
   "source": [
    "#accessing column\n",
    "a[:,1]"
   ]
  },
  {
   "cell_type": "code",
   "execution_count": 35,
   "metadata": {},
   "outputs": [
    {
     "data": {
      "text/plain": [
       "array([1, 4, 7])"
      ]
     },
     "execution_count": 35,
     "metadata": {},
     "output_type": "execute_result"
    }
   ],
   "source": [
    "a[:,0]"
   ]
  },
  {
   "cell_type": "code",
   "execution_count": 36,
   "metadata": {},
   "outputs": [
    {
     "name": "stdout",
     "output_type": "stream",
     "text": [
      "[[ 5  6]\n",
      " [ 4 10]]\n"
     ]
    }
   ],
   "source": [
    "# numpy array is mutable\n",
    "num[1,1]=10\n",
    "print(num)"
   ]
  },
  {
   "cell_type": "code",
   "execution_count": 37,
   "metadata": {},
   "outputs": [
    {
     "data": {
      "text/plain": [
       "10"
      ]
     },
     "execution_count": 37,
     "metadata": {},
     "output_type": "execute_result"
    }
   ],
   "source": [
    "num[1,1]"
   ]
  },
  {
   "cell_type": "code",
   "execution_count": 38,
   "metadata": {},
   "outputs": [
    {
     "name": "stdout",
     "output_type": "stream",
     "text": [
      "1 2 3\n"
     ]
    }
   ],
   "source": [
    "grid=np.array([1,2,3,4])\n",
    "print(grid[0],grid[1],grid[2])\n"
   ]
  },
  {
   "cell_type": "code",
   "execution_count": 39,
   "metadata": {
    "scrolled": true
   },
   "outputs": [
    {
     "name": "stdout",
     "output_type": "stream",
     "text": [
      "4 2 6\n"
     ]
    }
   ],
   "source": [
    "f=np.array([[4,2,1],[6,7,8]])\n",
    "print(f[0,0],f[0,1],f[1,0])"
   ]
  },
  {
   "cell_type": "code",
   "execution_count": 40,
   "metadata": {},
   "outputs": [
    {
     "name": "stdout",
     "output_type": "stream",
     "text": [
      "[[[0. 0.]\n",
      "  [0. 0.]]\n",
      "\n",
      " [[0. 0.]\n",
      "  [0. 0.]]]\n",
      "3\n"
     ]
    }
   ],
   "source": [
    "#numpy also provides many functions to create array\n",
    "#zeros() function\n",
    "r=np.zeros([2,2,2])\n",
    "print(r)\n",
    "print(r.ndim)"
   ]
  },
  {
   "cell_type": "code",
   "execution_count": 41,
   "metadata": {},
   "outputs": [
    {
     "name": "stdout",
     "output_type": "stream",
     "text": [
      "[[[1. 1. 1. 1.]\n",
      "  [1. 1. 1. 1.]\n",
      "  [1. 1. 1. 1.]]\n",
      "\n",
      " [[1. 1. 1. 1.]\n",
      "  [1. 1. 1. 1.]\n",
      "  [1. 1. 1. 1.]]]\n",
      "<class 'numpy.ndarray'>\n"
     ]
    }
   ],
   "source": [
    "#ones() function\n",
    "e=np.ones([2,3,4])\n",
    "print(e)\n",
    "print(type(e))"
   ]
  },
  {
   "cell_type": "code",
   "execution_count": 42,
   "metadata": {},
   "outputs": [
    {
     "name": "stdout",
     "output_type": "stream",
     "text": [
      "[[9 9 9]\n",
      " [9 9 9]]\n"
     ]
    }
   ],
   "source": [
    "#full() - it print the number that you provide\n",
    "q=np.full([2,3],9)\n",
    "print(q)"
   ]
  },
  {
   "cell_type": "code",
   "execution_count": 43,
   "metadata": {},
   "outputs": [
    {
     "name": "stdout",
     "output_type": "stream",
     "text": [
      "[[1. 0. 0.]\n",
      " [0. 1. 0.]\n",
      " [0. 0. 1.]]\n"
     ]
    }
   ],
   "source": [
    "#identity matrix\n",
    "# eye() -used for identity matrix\n",
    "w=np.eye(3)\n",
    "print(w)"
   ]
  },
  {
   "cell_type": "code",
   "execution_count": 44,
   "metadata": {},
   "outputs": [
    {
     "name": "stdout",
     "output_type": "stream",
     "text": [
      "[[1 0 0 0]\n",
      " [0 2 0 0]\n",
      " [0 0 3 0]\n",
      " [0 0 0 4]]\n"
     ]
    }
   ],
   "source": [
    "x=np.diag([1,2,3,4])\n",
    "print(x)"
   ]
  },
  {
   "cell_type": "code",
   "execution_count": 45,
   "metadata": {},
   "outputs": [
    {
     "data": {
      "text/plain": [
       "array([[0.62602901, 0.28899367, 0.29629596, 0.12993422],\n",
       "       [0.49752262, 0.44243035, 0.35374464, 0.50616785],\n",
       "       [0.74092486, 0.37608131, 0.67705161, 0.96243089]])"
      ]
     },
     "execution_count": 45,
     "metadata": {},
     "output_type": "execute_result"
    }
   ],
   "source": [
    "#random.random() function\n",
    "t=np.random.random([3,4])\n",
    "t"
   ]
  },
  {
   "cell_type": "code",
   "execution_count": 46,
   "metadata": {},
   "outputs": [
    {
     "name": "stdout",
     "output_type": "stream",
     "text": [
      "[[ 2  3  4  5]\n",
      " [ 5  6  7  8]\n",
      " [ 9 10 11 13]]\n",
      "[[3 4]\n",
      " [6 7]]\n"
     ]
    }
   ],
   "source": [
    "#slicing values\n",
    "g=np.array([[2,3,4,5],[5,6,7,8],[9,10,11,13]])\n",
    "print(g)\n",
    "f=g[:2,1:3]\n",
    "print(f)"
   ]
  },
  {
   "cell_type": "code",
   "execution_count": 47,
   "metadata": {},
   "outputs": [
    {
     "name": "stdout",
     "output_type": "stream",
     "text": [
      "3\n",
      "[[ 2 45  4  5]\n",
      " [ 5  6  7  8]\n",
      " [ 9 10 11 13]]\n"
     ]
    },
    {
     "data": {
      "text/plain": [
       "array([[45,  4],\n",
       "       [ 6,  7]])"
      ]
     },
     "execution_count": 47,
     "metadata": {},
     "output_type": "execute_result"
    }
   ],
   "source": [
    "# interelated\n",
    "print(g[0,1])\n",
    "f[0,0]=45\n",
    "print(g)\n",
    "f"
   ]
  },
  {
   "cell_type": "code",
   "execution_count": 48,
   "metadata": {},
   "outputs": [
    {
     "name": "stdout",
     "output_type": "stream",
     "text": [
      "[[ 2  3  4  5]\n",
      " [ 5  6  7  8]\n",
      " [ 9 10 11 13]]\n",
      "[[ 6  7  8]\n",
      " [10 11 13]]\n",
      "[5 6 7 8]\n",
      "[[5 6 7 8]]\n",
      "(3, 4)\n"
     ]
    }
   ],
   "source": [
    "g=np.array([[2,3,4,5],[5,6,7,8],[9,10,11,13]])\n",
    "print(g)\n",
    "print(g[1:3,1:4])\n",
    "row1=g[1,:]\n",
    "row2=g[1:2,:]\n",
    "print(row1)\n",
    "print(row2)\n",
    "print(g.shape)"
   ]
  },
  {
   "cell_type": "code",
   "execution_count": 49,
   "metadata": {},
   "outputs": [
    {
     "data": {
      "text/plain": [
       "(3, 4)"
      ]
     },
     "execution_count": 49,
     "metadata": {},
     "output_type": "execute_result"
    }
   ],
   "source": [
    "g.shape"
   ]
  },
  {
   "cell_type": "code",
   "execution_count": 50,
   "metadata": {},
   "outputs": [
    {
     "name": "stdout",
     "output_type": "stream",
     "text": [
      "[[2]\n",
      " [5]\n",
      " [9]]\n"
     ]
    }
   ],
   "source": [
    "col1=g[:,0:1]\n",
    "col2=g[:]\n",
    "print(col1)"
   ]
  },
  {
   "cell_type": "code",
   "execution_count": 51,
   "metadata": {},
   "outputs": [
    {
     "name": "stdout",
     "output_type": "stream",
     "text": [
      "[ 5  8 13]\n"
     ]
    }
   ],
   "source": [
    "col1=g[:,3]\n",
    "print(col1)"
   ]
  },
  {
   "cell_type": "code",
   "execution_count": 52,
   "metadata": {},
   "outputs": [
    {
     "name": "stdout",
     "output_type": "stream",
     "text": [
      "[1 4 5]\n",
      "1 4 5\n"
     ]
    }
   ],
   "source": [
    "#integer array indexing\n",
    "a=np.array([[1,2],[3,4],[5,6]])\n",
    "print(a[[0,1,2],[0,1,0]])  #[0,0] [1,1] [2,0]\n",
    "print(a[0,0],a[1,1],a[2,0])"
   ]
  },
  {
   "cell_type": "code",
   "execution_count": 53,
   "metadata": {},
   "outputs": [
    {
     "name": "stdout",
     "output_type": "stream",
     "text": [
      "[ 1  6  7 11]\n"
     ]
    }
   ],
   "source": [
    "a=np.array([[1,2,3],[4,5,6],[7,8,9],[10,11,12]])\n",
    "#print(a)\n",
    "b=np.array([0,2,0,1]) #consider row in order\n",
    "print(a[np.arange(4),b])"
   ]
  },
  {
   "cell_type": "code",
   "execution_count": 54,
   "metadata": {},
   "outputs": [
    {
     "data": {
      "text/plain": [
       "array([[ 1,  2,  3],\n",
       "       [ 4,  5,  6],\n",
       "       [ 7,  8,  9],\n",
       "       [10, 11, 12]])"
      ]
     },
     "execution_count": 54,
     "metadata": {},
     "output_type": "execute_result"
    }
   ],
   "source": [
    "a"
   ]
  },
  {
   "cell_type": "code",
   "execution_count": 55,
   "metadata": {},
   "outputs": [
    {
     "data": {
      "text/plain": [
       "array([0, 2, 0, 1])"
      ]
     },
     "execution_count": 55,
     "metadata": {},
     "output_type": "execute_result"
    }
   ],
   "source": [
    "b"
   ]
  },
  {
   "cell_type": "code",
   "execution_count": 56,
   "metadata": {},
   "outputs": [
    {
     "name": "stdout",
     "output_type": "stream",
     "text": [
      "(4, 3)\n",
      "[[ 3  7  5]\n",
      " [ 4 10  8]\n",
      " [ 2 13  1]\n",
      " [17  6  9]]\n"
     ]
    }
   ],
   "source": [
    "#04-OCT-2021\n",
    "# arange function\n",
    "import numpy as np\n",
    "t=np.array([[3,7,5],[4,10,8],[2,13,1],[17,6,9]])\n",
    "print(t.shape)\n",
    "print(t)"
   ]
  },
  {
   "cell_type": "code",
   "execution_count": 57,
   "metadata": {},
   "outputs": [
    {
     "name": "stdout",
     "output_type": "stream",
     "text": [
      "[3 8 2 9]\n"
     ]
    }
   ],
   "source": [
    "u=np.array([0,2,0,2])\n",
    "print(t[np.arange(4),u])"
   ]
  },
  {
   "cell_type": "code",
   "execution_count": 58,
   "metadata": {},
   "outputs": [
    {
     "name": "stdout",
     "output_type": "stream",
     "text": [
      "[[13  7  5]\n",
      " [ 4 10 18]\n",
      " [12 13  1]\n",
      " [17  6 19]]\n"
     ]
    }
   ],
   "source": [
    "t[np.arange(4),u] += 10\n",
    "print(t)"
   ]
  },
  {
   "cell_type": "code",
   "execution_count": 59,
   "metadata": {},
   "outputs": [
    {
     "name": "stdout",
     "output_type": "stream",
     "text": [
      "[[13  7  5]\n",
      " [ 4 10 18]\n",
      " [12 13  1]]\n"
     ]
    }
   ],
   "source": [
    "u=np.array([0,2,0])\n",
    "print(t[np.arange(3)])"
   ]
  },
  {
   "cell_type": "code",
   "execution_count": 60,
   "metadata": {},
   "outputs": [
    {
     "name": "stdout",
     "output_type": "stream",
     "text": [
      "(4, 4)\n",
      "[[ 3  7  5 21]\n",
      " [ 4 10  8 20]\n",
      " [ 2 13  1 16]\n",
      " [17  6  9 19]]\n"
     ]
    }
   ],
   "source": [
    "t=np.array([[3,7,5,21],[4,10,8,20],[2,13,1,16],[17,6,9,19]])\n",
    "print(t.shape)\n",
    "print(t)"
   ]
  },
  {
   "cell_type": "code",
   "execution_count": 61,
   "metadata": {},
   "outputs": [
    {
     "name": "stdout",
     "output_type": "stream",
     "text": [
      "[3 8 2 9]\n"
     ]
    }
   ],
   "source": [
    "u=np.array([0,2,0,2])  #(0,0),(1,2),(2,0),(3,2)\n",
    "print(t[np.arange(4),u])"
   ]
  },
  {
   "cell_type": "code",
   "execution_count": 62,
   "metadata": {},
   "outputs": [
    {
     "name": "stdout",
     "output_type": "stream",
     "text": [
      "[[ 3  7  5 21]\n",
      " [ 4 10  8 20]\n",
      " [ 2 13  1 16]\n",
      " [17  6  9 19]]\n",
      "[[ 3  3]\n",
      " [ 7  7]\n",
      " [ 5  5]\n",
      " [21 21]]\n"
     ]
    }
   ],
   "source": [
    "u=np.array([[0,0],[1,1],[2,2],[3,3]])\n",
    "print(t)\n",
    "print(t[np.arange(1),u])"
   ]
  },
  {
   "cell_type": "code",
   "execution_count": 63,
   "metadata": {},
   "outputs": [],
   "source": [
    "#diff between range and arange"
   ]
  },
  {
   "cell_type": "code",
   "execution_count": 64,
   "metadata": {},
   "outputs": [
    {
     "name": "stdout",
     "output_type": "stream",
     "text": [
      "[[False False]\n",
      " [False False]\n",
      " [False  True]]\n",
      "[[3 2]\n",
      " [5 8]\n",
      " [9 1]]\n"
     ]
    }
   ],
   "source": [
    "#boolean array indexing\n",
    "f=np.array([[3,2],[5,8],[9,1]])\n",
    "less_than_2=(f<2)\n",
    "print(less_than_2)\n",
    "print(f)"
   ]
  },
  {
   "cell_type": "code",
   "execution_count": 65,
   "metadata": {},
   "outputs": [
    {
     "name": "stdout",
     "output_type": "stream",
     "text": [
      "[[ True False]\n",
      " [ True  True]\n",
      " [ True False]]\n",
      "int32\n"
     ]
    }
   ],
   "source": [
    "f=np.array([[3,2],[5,8],[9,1]])\n",
    "less_than_2=(f>2)\n",
    "print(less_than_2)\n",
    "print(f.dtype)"
   ]
  },
  {
   "cell_type": "code",
   "execution_count": 66,
   "metadata": {},
   "outputs": [
    {
     "name": "stdout",
     "output_type": "stream",
     "text": [
      "[3 5 8 9]\n",
      "[3 5 8 9]\n"
     ]
    }
   ],
   "source": [
    "print(f[less_than_2])\n",
    "print(f[f>2])"
   ]
  },
  {
   "cell_type": "code",
   "execution_count": 67,
   "metadata": {},
   "outputs": [
    {
     "name": "stdout",
     "output_type": "stream",
     "text": [
      "int64\n"
     ]
    }
   ],
   "source": [
    "#dtype - find datatype of the elements that are stored in array\n",
    "c=np.array([4,8],dtype='int64')   #by default -int 32 from range int8 to int64\n",
    "print(c.dtype)"
   ]
  },
  {
   "cell_type": "code",
   "execution_count": 68,
   "metadata": {},
   "outputs": [
    {
     "name": "stdout",
     "output_type": "stream",
     "text": [
      "<U5\n"
     ]
    }
   ],
   "source": [
    "d=np.array(['hello'])\n",
    "print(d.dtype)"
   ]
  },
  {
   "cell_type": "code",
   "execution_count": 69,
   "metadata": {},
   "outputs": [
    {
     "data": {
      "text/plain": [
       "dtype('complex64')"
      ]
     },
     "execution_count": 69,
     "metadata": {},
     "output_type": "execute_result"
    }
   ],
   "source": [
    "a=np.array([5j],dtype='complex64')#by default-complex128 range from complex64 to complex128\n",
    "a.dtype"
   ]
  },
  {
   "cell_type": "code",
   "execution_count": 70,
   "metadata": {},
   "outputs": [
    {
     "name": "stdout",
     "output_type": "stream",
     "text": [
      "float64\n"
     ]
    }
   ],
   "source": [
    "g=np.array([9.0],dtype='float64')#by default-float64 range from float16 to float64\n",
    "print(g.dtype)"
   ]
  },
  {
   "cell_type": "code",
   "execution_count": 71,
   "metadata": {},
   "outputs": [
    {
     "name": "stdout",
     "output_type": "stream",
     "text": [
      "float64\n",
      "int32\n"
     ]
    }
   ],
   "source": [
    "#mathematical functions\n",
    "x=np.array([10.5,14.5])\n",
    "print(x.dtype)\n",
    "y=np.array([23,21])\n",
    "print(y.dtype)\n",
    "z=(x+y)\n"
   ]
  },
  {
   "cell_type": "code",
   "execution_count": 72,
   "metadata": {},
   "outputs": [
    {
     "name": "stdout",
     "output_type": "stream",
     "text": [
      "float64\n"
     ]
    }
   ],
   "source": [
    "print(z.dtype)"
   ]
  },
  {
   "cell_type": "code",
   "execution_count": 73,
   "metadata": {},
   "outputs": [
    {
     "name": "stdout",
     "output_type": "stream",
     "text": [
      "int32\n",
      "int32\n"
     ]
    }
   ],
   "source": [
    "x=np.array([10,14])\n",
    "print(x.dtype)\n",
    "y=np.array([23,21])\n",
    "print(y.dtype)\n",
    "z=(x+y)\n"
   ]
  },
  {
   "cell_type": "code",
   "execution_count": 74,
   "metadata": {},
   "outputs": [
    {
     "name": "stdout",
     "output_type": "stream",
     "text": [
      "[33 35]\n"
     ]
    }
   ],
   "source": [
    "print(z)"
   ]
  },
  {
   "cell_type": "code",
   "execution_count": 75,
   "metadata": {},
   "outputs": [
    {
     "name": "stdout",
     "output_type": "stream",
     "text": [
      "[33 35]\n"
     ]
    }
   ],
   "source": [
    "print(np.add(x,y))"
   ]
  },
  {
   "cell_type": "code",
   "execution_count": 76,
   "metadata": {},
   "outputs": [
    {
     "name": "stdout",
     "output_type": "stream",
     "text": [
      "[-13  -7]\n",
      "[-13  -7]\n"
     ]
    }
   ],
   "source": [
    "print(np.subtract(x,y))\n",
    "print(x-y)"
   ]
  },
  {
   "cell_type": "code",
   "execution_count": 77,
   "metadata": {},
   "outputs": [
    {
     "name": "stdout",
     "output_type": "stream",
     "text": [
      "[230 294]\n",
      "[230 294]\n"
     ]
    }
   ],
   "source": [
    "print(np.multiply(x,y))\n",
    "print(x*y)"
   ]
  },
  {
   "cell_type": "code",
   "execution_count": 78,
   "metadata": {},
   "outputs": [
    {
     "name": "stdout",
     "output_type": "stream",
     "text": [
      "[0.43478261 0.66666667]\n",
      "[0.43478261 0.66666667]\n"
     ]
    }
   ],
   "source": [
    "print(np.divide(x,y))\n",
    "print(x/y)"
   ]
  },
  {
   "cell_type": "code",
   "execution_count": 79,
   "metadata": {},
   "outputs": [
    {
     "name": "stdout",
     "output_type": "stream",
     "text": [
      "[[3.16227766 3.74165739]\n",
      " [4.79583152 4.58257569]]\n"
     ]
    }
   ],
   "source": [
    "print(np.sqrt([x,y]))"
   ]
  },
  {
   "cell_type": "code",
   "execution_count": 80,
   "metadata": {},
   "outputs": [
    {
     "data": {
      "text/plain": [
       "array([4.79583152, 4.58257569])"
      ]
     },
     "execution_count": 80,
     "metadata": {},
     "output_type": "execute_result"
    }
   ],
   "source": [
    "np.sqrt(y)"
   ]
  },
  {
   "cell_type": "code",
   "execution_count": 81,
   "metadata": {},
   "outputs": [
    {
     "name": "stdout",
     "output_type": "stream",
     "text": [
      "[100 196]\n"
     ]
    }
   ],
   "source": [
    "print(np.square(x))"
   ]
  },
  {
   "cell_type": "code",
   "execution_count": 82,
   "metadata": {},
   "outputs": [
    {
     "name": "stdout",
     "output_type": "stream",
     "text": [
      "[529 441]\n"
     ]
    }
   ],
   "source": [
    "print(np.square(y))"
   ]
  },
  {
   "cell_type": "code",
   "execution_count": 83,
   "metadata": {},
   "outputs": [
    {
     "name": "stdout",
     "output_type": "stream",
     "text": [
      "5566\n",
      "5566\n",
      "[[[113 134]\n",
      "  [278 329]]]\n",
      "[[[113 134]\n",
      "  [278 329]]]\n"
     ]
    }
   ],
   "source": [
    "#05-OCT-2021\n",
    "#dot function\n",
    "a=np.array([[[10,11],[25,26]]])\n",
    "b=np.array([[8,9],[3,4]])\n",
    "c=np.array([33,44])\n",
    "d=np.array([66,77])\n",
    "print(c.dot(d))     #33* 66+44*77\n",
    "print(np.dot(c,d))\n",
    "print(a.dot(b))\n",
    "print(np.dot(a,b))"
   ]
  },
  {
   "cell_type": "code",
   "execution_count": 84,
   "metadata": {},
   "outputs": [
    {
     "name": "stdout",
     "output_type": "stream",
     "text": [
      "[[ 814 1969]]\n"
     ]
    }
   ],
   "source": [
    "\n",
    "print(np.dot(a,c))  # 10*33+11*44=814 and 25*33+26*44=1969"
   ]
  },
  {
   "cell_type": "code",
   "execution_count": 86,
   "metadata": {},
   "outputs": [
    {
     "name": "stdout",
     "output_type": "stream",
     "text": [
      "78\n",
      "[[10 11]\n",
      " [25 26]\n",
      " [ 2  4]]\n",
      "[[37 41]]\n"
     ]
    }
   ],
   "source": [
    "# sum\n",
    "a=np.array([[[10,11],[25,26],[2,4]]])\n",
    "print(a.sum())\n",
    "print(np.sum(a,axis=0)) #compute sum of each col\n",
    "print(np.sum(a,axis=1)) #compute sum of each rows\n"
   ]
  },
  {
   "cell_type": "code",
   "execution_count": 90,
   "metadata": {},
   "outputs": [
    {
     "name": "stdout",
     "output_type": "stream",
     "text": [
      "[[22 53 11]]\n",
      "3\n"
     ]
    }
   ],
   "source": [
    "a=np.array([[[10,11,1],[25,26,2],[2,4,5]]])\n",
    "print(np.sum(a,axis=2))\n",
    "print(a.ndim)"
   ]
  },
  {
   "cell_type": "code",
   "execution_count": 91,
   "metadata": {},
   "outputs": [
    {
     "name": "stdout",
     "output_type": "stream",
     "text": [
      "[[[10 11  1]\n",
      "  [25 26  2]\n",
      "  [ 2  4  5]]]\n"
     ]
    }
   ],
   "source": [
    "print(a)"
   ]
  },
  {
   "cell_type": "code",
   "execution_count": 92,
   "metadata": {},
   "outputs": [
    {
     "name": "stdout",
     "output_type": "stream",
     "text": [
      "[[10 11  1]\n",
      " [25 26  2]\n",
      " [ 2  4  5]]\n"
     ]
    }
   ],
   "source": [
    "print(np.sum(a,axis=0))"
   ]
  },
  {
   "cell_type": "code",
   "execution_count": 100,
   "metadata": {},
   "outputs": [
    {
     "name": "stdout",
     "output_type": "stream",
     "text": [
      "[[ 4  7]\n",
      " [ 9 10]]\n",
      "[[ 4  9]\n",
      " [ 7 10]]\n"
     ]
    }
   ],
   "source": [
    "# manipulating the data in an array\n",
    "# Transposing (T)\n",
    "t=np.array([[4,7],[9,10]])\n",
    "print(t)\n",
    "print(t.T)"
   ]
  },
  {
   "cell_type": "code",
   "execution_count": 101,
   "metadata": {},
   "outputs": [
    {
     "name": "stdout",
     "output_type": "stream",
     "text": [
      "[1 2]\n"
     ]
    }
   ],
   "source": [
    "a=np.array([1,2])\n",
    "print(a.T)"
   ]
  },
  {
   "cell_type": "code",
   "execution_count": 103,
   "metadata": {},
   "outputs": [
    {
     "name": "stdout",
     "output_type": "stream",
     "text": [
      "[1 2 3]\n",
      "[1 2 3]\n"
     ]
    }
   ],
   "source": [
    "b=np.array([1,2,3])   \n",
    "print(b)\n",
    "print(b.T)"
   ]
  },
  {
   "cell_type": "code",
   "execution_count": 106,
   "metadata": {},
   "outputs": [
    {
     "name": "stdout",
     "output_type": "stream",
     "text": [
      "[3 6 8]\n",
      "[3 6 8]\n"
     ]
    }
   ],
   "source": [
    "a=np.array([3,6,8])\n",
    "print(a)\n",
    "print(a.T)"
   ]
  },
  {
   "cell_type": "code",
   "execution_count": 122,
   "metadata": {},
   "outputs": [],
   "source": [
    "# BROADCASTING\n",
    "a=np.array([[12,13],[4,5],[8,9],[14,15]])\n",
    "b=np.array([1,0])\n",
    "c=np.empty_like(a)\n"
   ]
  },
  {
   "cell_type": "code",
   "execution_count": 123,
   "metadata": {},
   "outputs": [],
   "source": [
    "for i in c:\n",
    "    c=a+b"
   ]
  },
  {
   "cell_type": "code",
   "execution_count": 124,
   "metadata": {},
   "outputs": [
    {
     "name": "stdout",
     "output_type": "stream",
     "text": [
      "[[13 13]\n",
      " [ 5  5]\n",
      " [ 9  9]\n",
      " [15 15]]\n"
     ]
    }
   ],
   "source": [
    "print(c)"
   ]
  },
  {
   "cell_type": "code",
   "execution_count": 137,
   "metadata": {},
   "outputs": [
    {
     "name": "stdout",
     "output_type": "stream",
     "text": [
      "[[12 13  3]\n",
      " [17  4  5]\n",
      " [14  8  9]\n",
      " [16 14 15]]\n"
     ]
    }
   ],
   "source": [
    "a=np.array([[12,13,3],[17,4,5],[14,8,9],[16,14,15]])\n",
    "b=np.array([1,0,1])\n",
    "c=np.empty_like(a)\n",
    "print(a)"
   ]
  },
  {
   "cell_type": "code",
   "execution_count": 142,
   "metadata": {},
   "outputs": [],
   "source": [
    "for i in c:\n",
    "    c=a+b"
   ]
  },
  {
   "cell_type": "code",
   "execution_count": 143,
   "metadata": {},
   "outputs": [
    {
     "name": "stdout",
     "output_type": "stream",
     "text": [
      "[[13 13  4]\n",
      " [18  4  6]\n",
      " [15  8 10]\n",
      " [17 14 16]]\n"
     ]
    }
   ],
   "source": [
    "print(c)  # (12+1 13+0 3+1) (17+1 4+0 5+1) (14+1 8+0 9+1) (16+1 14+0 15+1)"
   ]
  },
  {
   "cell_type": "code",
   "execution_count": 146,
   "metadata": {},
   "outputs": [],
   "source": [
    "for i in range(4):\n",
    "    c[i,:]=a[i,:]+b   "
   ]
  },
  {
   "cell_type": "code",
   "execution_count": 147,
   "metadata": {},
   "outputs": [
    {
     "name": "stdout",
     "output_type": "stream",
     "text": [
      "[[13 13  4]\n",
      " [18  4  6]\n",
      " [15  8 10]\n",
      " [17 14 16]]\n"
     ]
    }
   ],
   "source": [
    "print(c)"
   ]
  },
  {
   "cell_type": "code",
   "execution_count": 160,
   "metadata": {},
   "outputs": [
    {
     "name": "stdout",
     "output_type": "stream",
     "text": [
      "[[1 0 1]\n",
      " [1 0 1]\n",
      " [1 0 1]\n",
      " [1 0 1]]\n"
     ]
    }
   ],
   "source": [
    "# tile() function\n",
    "a=np.array([[12,13,3],[17,4,5],[14,8,9],[16,14,15]])\n",
    "b=np.array([1,0,1])\n",
    "c=np.tile(b,(4,1))\n",
    "print(c)\n",
    "d=a+c"
   ]
  },
  {
   "cell_type": "code",
   "execution_count": 161,
   "metadata": {},
   "outputs": [
    {
     "name": "stdout",
     "output_type": "stream",
     "text": [
      "[[13 13  4]\n",
      " [18  4  6]\n",
      " [15  8 10]\n",
      " [17 14 16]]\n"
     ]
    }
   ],
   "source": [
    "print(d)"
   ]
  },
  {
   "cell_type": "code",
   "execution_count": 177,
   "metadata": {},
   "outputs": [
    {
     "name": "stdout",
     "output_type": "stream",
     "text": [
      "[[80 20]\n",
      " [32  8]\n",
      " [40 10]]\n"
     ]
    }
   ],
   "source": [
    "# reshape() function\n",
    "s=np.array([10,4,5])\n",
    "t=np.array([8,2])\n",
    "print(np.reshape(s,(3,1))*t)"
   ]
  },
  {
   "cell_type": "code",
   "execution_count": 178,
   "metadata": {},
   "outputs": [
    {
     "name": "stdout",
     "output_type": "stream",
     "text": [
      "[[80 20]\n",
      " [32  8]]\n"
     ]
    }
   ],
   "source": [
    "s=np.array([10,4])\n",
    "t=np.array([8,2])\n",
    "print(np.reshape(s,(2,1))*t)"
   ]
  },
  {
   "cell_type": "code",
   "execution_count": 183,
   "metadata": {},
   "outputs": [],
   "source": [
    "s=np.array([10,4])\n",
    "t=np.array([8,2,3])\n",
    "c=(np.reshape(s,(2,1))*t)"
   ]
  },
  {
   "cell_type": "code",
   "execution_count": 184,
   "metadata": {},
   "outputs": [
    {
     "name": "stdout",
     "output_type": "stream",
     "text": [
      "[[80 20 30]\n",
      " [32  8 12]]\n"
     ]
    }
   ],
   "source": [
    "print(c)"
   ]
  },
  {
   "cell_type": "code",
   "execution_count": 194,
   "metadata": {},
   "outputs": [
    {
     "name": "stdout",
     "output_type": "stream",
     "text": [
      "[[80 20]\n",
      " [32  8]\n",
      " [48 12]]\n"
     ]
    }
   ],
   "source": [
    "s=np.array([10,4,6])\n",
    "t=np.array([8,2])\n",
    "c=(np.reshape(s,(3,1))*t)\n",
    "print(c)"
   ]
  },
  {
   "cell_type": "code",
   "execution_count": 195,
   "metadata": {},
   "outputs": [
    {
     "name": "stdout",
     "output_type": "stream",
     "text": [
      "[[13 13  8]\n",
      " [17  9 16]]\n"
     ]
    }
   ],
   "source": [
    "x=np.array([[3,9,2],[7,5,10]])\n",
    "print(x+s)"
   ]
  },
  {
   "cell_type": "code",
   "execution_count": 197,
   "metadata": {},
   "outputs": [
    {
     "name": "stdout",
     "output_type": "stream",
     "text": [
      "[[11  9]\n",
      " [17  7]\n",
      " [10 12]]\n"
     ]
    }
   ],
   "source": [
    "print((x.T+t))"
   ]
  },
  {
   "cell_type": "code",
   "execution_count": 198,
   "metadata": {},
   "outputs": [
    {
     "name": "stdout",
     "output_type": "stream",
     "text": [
      "[[11 17 10]\n",
      " [ 9  7 12]]\n"
     ]
    }
   ],
   "source": [
    "print((x.T+t).T)"
   ]
  },
  {
   "cell_type": "code",
   "execution_count": 200,
   "metadata": {},
   "outputs": [
    {
     "name": "stdout",
     "output_type": "stream",
     "text": [
      "[[11 17 10]\n",
      " [ 9  7 12]]\n"
     ]
    }
   ],
   "source": [
    "print(x+np.reshape(t,(2,1)))"
   ]
  },
  {
   "cell_type": "code",
   "execution_count": 1,
   "metadata": {},
   "outputs": [],
   "source": [
    "# 06-OCT-2021\n",
    "#\n",
    "import numpy as np"
   ]
  },
  {
   "cell_type": "code",
   "execution_count": null,
   "metadata": {},
   "outputs": [],
   "source": []
  }
 ],
 "metadata": {
  "kernelspec": {
   "display_name": "Python 3",
   "language": "python",
   "name": "python3"
  },
  "language_info": {
   "codemirror_mode": {
    "name": "ipython",
    "version": 3
   },
   "file_extension": ".py",
   "mimetype": "text/x-python",
   "name": "python",
   "nbconvert_exporter": "python",
   "pygments_lexer": "ipython3",
   "version": "3.7.3"
  }
 },
 "nbformat": 4,
 "nbformat_minor": 2
}
